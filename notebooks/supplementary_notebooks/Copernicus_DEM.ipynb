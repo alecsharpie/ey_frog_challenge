{
 "cells": [
  {
   "cell_type": "markdown",
   "metadata": {
    "tags": []
   },
   "source": [
    "## 2022 EY Challenge - Digital Elevation\n",
    "\n",
    "This notebook can be used to create a Digital Elevation Model (DEM) dataset. This elevation information, along with calculated slope, can be used as a \"predictor variable\" to relate to species samples. It is believed that terrain elevation may be a constraint for species habitat. The baseline data is 30-meters spatial resolution [Copernicus DEM GLO-30] and can be found in the MS Planetary Computer catalog: (https://planetarycomputer.microsoft.com/dataset/cop-dem-glo-30)"
   ]
  },
  {
   "cell_type": "code",
   "execution_count": null,
   "metadata": {},
   "outputs": [],
   "source": [
    "# Supress Warnings \n",
    "import warnings\n",
    "warnings.filterwarnings('ignore')\n",
    "\n",
    "# Import common GIS tools\n",
    "import numpy as np\n",
    "import xarray as xr\n",
    "import matplotlib.pyplot as plt\n",
    "import rioxarray as rio\n",
    "import rasterio.features\n",
    "import folium\n",
    "import math\n",
    "\n",
    "# Import Planetary Computer tools\n",
    "import pystac_client\n",
    "import planetary_computer"
   ]
  },
  {
   "cell_type": "markdown",
   "metadata": {},
   "source": [
    "### Define the analysis region and view on a map\n",
    "\n",
    "First, we define our area of interest using latitude and longitude coordinates. Our test region is near Richmond, NSW, Australia. The first line defines the lower-left corner of the bounding box and the second line defines the upper-right corner of the bounding box. GeoJSON format uses a specific order: (longitude, latitude), so be careful when entering the coordinates."
   ]
  },
  {
   "cell_type": "code",
   "execution_count": null,
   "metadata": {},
   "outputs": [],
   "source": [
    "# Define the bounding box using corners\n",
    "min_lon, min_lat = (150.62, -33.69)  # Lower-left corner (longitude, latitude)\n",
    "max_lon, max_lat = (150.83, -33.48)  # Upper-right corner (longitude, latitude)"
   ]
  },
  {
   "cell_type": "code",
   "execution_count": null,
   "metadata": {},
   "outputs": [],
   "source": [
    "bbox = (min_lon, min_lat, max_lon, max_lat)\n",
    "latitude = (min_lat, max_lat)\n",
    "longitude = (min_lon, max_lon)"
   ]
  },
  {
   "cell_type": "code",
   "execution_count": null,
   "metadata": {
    "jupyter": {
     "source_hidden": true
    },
    "tags": []
   },
   "outputs": [],
   "source": [
    "def _degree_to_zoom_level(l1, l2, margin = 0.0):\n",
    "    \n",
    "    degree = abs(l1 - l2) * (1 + margin)\n",
    "    zoom_level_int = 0\n",
    "    if degree != 0:\n",
    "        zoom_level_float = math.log(360/degree)/math.log(2)\n",
    "        zoom_level_int = int(zoom_level_float)\n",
    "    else:\n",
    "        zoom_level_int = 18\n",
    "    return zoom_level_int\n",
    "\n",
    "def display_map(latitude = None, longitude = None):\n",
    "\n",
    "    margin = -0.5\n",
    "    zoom_bias = 0\n",
    "    lat_zoom_level = _degree_to_zoom_level(margin = margin, *latitude ) + zoom_bias\n",
    "    lon_zoom_level = _degree_to_zoom_level(margin = margin, *longitude) + zoom_bias\n",
    "    zoom_level = min(lat_zoom_level, lon_zoom_level) \n",
    "    center = [np.mean(latitude), np.mean(longitude)]\n",
    "    \n",
    "    map_hybrid = folium.Map(location=center,zoom_start=zoom_level, \n",
    "        tiles=\" http://mt1.google.com/vt/lyrs=y&z={z}&x={x}&y={y}\",attr=\"Google\")\n",
    "    \n",
    "    line_segments = [(latitude[0],longitude[0]),(latitude[0],longitude[1]),\n",
    "                     (latitude[1],longitude[1]),(latitude[1],longitude[0]),\n",
    "                     (latitude[0],longitude[0])]\n",
    "    \n",
    "    map_hybrid.add_child(folium.features.PolyLine(locations=line_segments,color='red',opacity=0.8))\n",
    "    map_hybrid.add_child(folium.features.LatLngPopup())        \n",
    "\n",
    "    return map_hybrid"
   ]
  },
  {
   "cell_type": "code",
   "execution_count": null,
   "metadata": {
    "tags": []
   },
   "outputs": [],
   "source": [
    "# Plot bounding box on a map\n",
    "f = folium.Figure(width=600, height=600)\n",
    "m = display_map(latitude,longitude)\n",
    "f.add_child(m)"
   ]
  },
  {
   "cell_type": "markdown",
   "metadata": {},
   "source": [
    "### Discover and load the data for analysis"
   ]
  },
  {
   "cell_type": "markdown",
   "metadata": {},
   "source": [
    "Using the `pystac_client` we can search the Planetary Computer's STAC endpoint for items matching our query parameters. We will look for data tiles (1-degree square) that intersect our bounding box. "
   ]
  },
  {
   "cell_type": "code",
   "execution_count": null,
   "metadata": {},
   "outputs": [],
   "source": [
    "stac = pystac_client.Client.open(\"https://planetarycomputer.microsoft.com/api/stac/v1\")\n",
    "search = stac.search(bbox=bbox,collections=[\"cop-dem-glo-30\"])"
   ]
  },
  {
   "cell_type": "code",
   "execution_count": null,
   "metadata": {},
   "outputs": [],
   "source": [
    "items = list(search.get_items())\n",
    "print('Number of 1-degree data tiles connected to our region:',len(items))"
   ]
  },
  {
   "cell_type": "markdown",
   "metadata": {},
   "source": [
    "Next, we'll load the elevation data into an [xarray](https://xarray.pydata.org/en/stable/) DataArray, calculate the slope between pixels, and then \"clip\" the data to only the pixels within our region (bounding box). The dataset includes elevation (meters) at lat-lon positions (EPSG:4326) at a spatial separation of 30-meters per pixel. "
   ]
  },
  {
   "cell_type": "code",
   "execution_count": null,
   "metadata": {},
   "outputs": [],
   "source": [
    "signed_asset = planetary_computer.sign(items[0].assets[\"data\"])"
   ]
  },
  {
   "cell_type": "code",
   "execution_count": null,
   "metadata": {
    "tags": []
   },
   "outputs": [],
   "source": [
    "data_elevation = (xr.open_rasterio(signed_asset.href).squeeze().drop(\"band\"))"
   ]
  },
  {
   "cell_type": "markdown",
   "metadata": {},
   "source": [
    "We will create a function to calculate slope (in percent) between pixels. The \"dem\" parameter is the elevation dataset to use for the slope calculation. The \"resolution\" parameter is the pixel spatial resolution of the elevation dataset."
   ]
  },
  {
   "cell_type": "code",
   "execution_count": null,
   "metadata": {},
   "outputs": [],
   "source": [
    "from scipy.ndimage import convolve"
   ]
  },
  {
   "cell_type": "code",
   "execution_count": null,
   "metadata": {
    "tags": []
   },
   "outputs": [],
   "source": [
    "def slope_pct(dem, resolution):\n",
    "    # Kernel for rate of elevation change in x-axis.\n",
    "    dx_kernel = np.array([[1, 0, -1],\n",
    "                          [2, 0, -2],\n",
    "                          [1, 0, -1]])\n",
    "    # Kernel for rate of elevation change in y-axis.\n",
    "    dy_kernel = np.array([[1, 2, 1],\n",
    "                          [0, 0, 0],\n",
    "                          [-1, -2, -1]])\n",
    "    # Rate of change calculations for each axis.\n",
    "    dx = convolve(dem, dx_kernel) / (8 * resolution)\n",
    "    dy = convolve(dem, dy_kernel) / (8 * resolution)\n",
    "    # Return rise/run * 100 for slope percent.\n",
    "    return np.sqrt(np.square(dx) + np.square(dy)) * 100"
   ]
  },
  {
   "cell_type": "code",
   "execution_count": null,
   "metadata": {
    "tags": []
   },
   "outputs": [],
   "source": [
    "data_slope = xr.DataArray(slope_pct(data_elevation,30.0),coords=dict(data_elevation.coords))"
   ]
  },
  {
   "cell_type": "code",
   "execution_count": null,
   "metadata": {},
   "outputs": [],
   "source": [
    "# Create a combined dataset that includes elevation and slope\n",
    "Combined_Data = xr.Dataset({'elevation':data_elevation,'slope':data_slope},coords=data_elevation.coords)"
   ]
  },
  {
   "cell_type": "code",
   "execution_count": null,
   "metadata": {
    "tags": []
   },
   "outputs": [],
   "source": [
    "Clipped_Data = Combined_Data.sel(x=slice(min_lon,max_lon),y=slice(max_lat,min_lat))"
   ]
  },
  {
   "cell_type": "markdown",
   "metadata": {},
   "source": [
    "### Display elevation and slope products"
   ]
  },
  {
   "cell_type": "code",
   "execution_count": null,
   "metadata": {},
   "outputs": [],
   "source": [
    "Clipped_Data.elevation.plot.imshow(size=8,cmap=plt.cm.terrain,vmin=0.0,vmax=np.max(Clipped_Data.elevation))\n",
    "plt.gca().set_aspect('equal')\n",
    "plt.title('Terrain Elevation (meters)')\n",
    "plt.xlabel('Longitude')\n",
    "plt.ylabel('Latitude')\n",
    "plt.show()"
   ]
  },
  {
   "cell_type": "code",
   "execution_count": null,
   "metadata": {},
   "outputs": [],
   "source": [
    "Clipped_Data.slope.plot.imshow(size=8, cmap=plt.cm.nipy_spectral, vmin=0, vmax=50)\n",
    "plt.gca().set_aspect('equal')\n",
    "plt.title('Terrain Slope (percent)')\n",
    "plt.xlabel('Longitude')\n",
    "plt.ylabel('Latitude')\n",
    "plt.show()"
   ]
  },
  {
   "cell_type": "markdown",
   "metadata": {},
   "source": [
    "### Save the output data in a GeoTIFF file"
   ]
  },
  {
   "cell_type": "code",
   "execution_count": null,
   "metadata": {
    "tags": []
   },
   "outputs": [],
   "source": [
    "filename = \"DEM_sample8.tiff\""
   ]
  },
  {
   "cell_type": "code",
   "execution_count": null,
   "metadata": {},
   "outputs": [],
   "source": [
    "# Set the dimensions of file in pixels\n",
    "height = Clipped_Data.elevation.shape[0]\n",
    "width = Clipped_Data.elevation.shape[1]"
   ]
  },
  {
   "cell_type": "code",
   "execution_count": null,
   "metadata": {},
   "outputs": [],
   "source": [
    "# Define the Coordinate Reference System (CRS) to be common Lat-Lon coordinates\n",
    "# Define the tranformation using our bounding box so the Lat-Lon information is written to the GeoTIFF\n",
    "gt = rasterio.transform.from_bounds(min_lon,min_lat,max_lon,max_lat,width,height)\n",
    "Clipped_Data.rio.write_crs(\"epsg:4326\", inplace=True)\n",
    "Clipped_Data.rio.write_transform(transform=gt, inplace=True);"
   ]
  },
  {
   "cell_type": "code",
   "execution_count": null,
   "metadata": {},
   "outputs": [],
   "source": [
    "# Create the GeoTIFF output file using the defined parameters\n",
    "with rasterio.open(filename,'w',driver='GTiff',width=width,height=height,crs='epsg:4326',\n",
    "                   transform=gt,count=2,compress='lzw',dtype='float32') as dst:\n",
    "    dst.write(Clipped_Data.elevation,1)\n",
    "    dst.write(Clipped_Data.slope,2)\n",
    "    print (dst.crs)\n",
    "    print (dst.transform)\n",
    "    dst.close()"
   ]
  },
  {
   "cell_type": "code",
   "execution_count": null,
   "metadata": {},
   "outputs": [],
   "source": [
    "# Show the location and size of the new output file\n",
    "!ls *.tiff -lah"
   ]
  },
  {
   "cell_type": "markdown",
   "metadata": {},
   "source": [
    "### How will the participants use this data?\n",
    "The GeoTIFF file will contain the Lat-Lon coordinates of each pixel and will also contain the elevation and slope for each pixel as separate data layers. Since the FrogID data is also Lat-Lon position, it is possible to find the closest pixel using code similar to what is demonstrated below. Once this pixel is found, then the corresponding elevation and slope data values can be used for modeling species distribution. "
   ]
  },
  {
   "cell_type": "code",
   "execution_count": null,
   "metadata": {},
   "outputs": [],
   "source": [
    "# This is an example for a specific Lon-Lat location randomly selected within our sample region.\n",
    "values = Clipped_Data.elevation.sel(x=150.71, y=-33.51, method=\"nearest\").values    \n",
    "print(\"This is the elevation in meters for the closest pixel: \", np.round(values,1))\n",
    "values = Clipped_Data.slope.sel(x=150.71, y=-33.51, method=\"nearest\").values    \n",
    "print(\"This is the slope in percent for the closest pixel: \", np.round(values,1))"
   ]
  }
 ],
 "metadata": {
  "kernelspec": {
   "display_name": "ey_ds",
   "language": "python",
   "name": "conda-env-ey_ds-py"
  },
  "language_info": {
   "codemirror_mode": {
    "name": "ipython",
    "version": 3
   },
   "file_extension": ".py",
   "mimetype": "text/x-python",
   "name": "python",
   "nbconvert_exporter": "python",
   "pygments_lexer": "ipython3",
   "version": "3.8.12"
  }
 },
 "nbformat": 4,
 "nbformat_minor": 4
}
