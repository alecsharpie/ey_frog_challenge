{
 "cells": [
  {
   "cell_type": "markdown",
   "metadata": {},
   "source": [
    "# 2022 EY Challenge\n",
    "\n",
    "## Frog Data\n",
    "\n",
    "This notebook demonstrates how to extract frog location data directly from the Global Biodiversity Information Facility (GBIF) API. The GBIF occurrence dataset combines data from a wide array of sources, including specimen-related data from natural history museums, observations from citizen science networks, and automated environmental surveys. The entire GBIF dataset can be visualised on the [GBIF interactive map website](https://www.gbif.org/occurrence/map). While the Planetary Computer does make periodic snapshots of the GBIF data available, the specificity of our query workload makes it more efficient to query the GBIF API directly. If you would prefer to access the data through the Planetary Computer, see the documentation [here](https://planetarycomputer.microsoft.com/dataset/gbif#overview). This notebook will walk through the process of accessing the GBIF data through the GBIF API.\n",
    "\n",
    "\n"
   ]
  },
  {
   "cell_type": "code",
   "execution_count": null,
   "metadata": {},
   "outputs": [],
   "source": [
    "# Supress Warnings \n",
    "import warnings\n",
    "warnings.filterwarnings('ignore')\n",
    "\n",
    "# Plotting tools\n",
    "import matplotlib.pyplot as plt\n",
    "\n",
    "# Data science tools\n",
    "import pandas as pd\n",
    "import numpy as np\n",
    "\n",
    "# Geospatial tools\n",
    "import geopandas as gpd\n",
    "import contextily as cx\n",
    "from shapely.geometry import Point, Polygon\n",
    "\n",
    "# API tools\n",
    "import requests\n",
    "import json\n"
   ]
  },
  {
   "cell_type": "markdown",
   "metadata": {},
   "source": [
    "### Area definition\n",
    "\n",
    "For this demonstration, we will constrain our search to frogs in the Richmond, NSW area."
   ]
  },
  {
   "cell_type": "code",
   "execution_count": null,
   "metadata": {},
   "outputs": [],
   "source": [
    "# Richmond, NSW\n",
    "min_lon, min_lat = (150.62, -33.69)  # Lower-left corner\n",
    "max_lon, max_lat = (150.83, -33.48)  # Upper-right corner\n",
    "bbox = (min_lon, min_lat, max_lon, max_lat)"
   ]
  },
  {
   "cell_type": "markdown",
   "metadata": {},
   "source": [
    "### Accessing the GBIF API\n",
    "\n",
    "As previously mentioned, the frog location data will be accessed directly from the GBIF API, the documentation of which can be found [here](https://www.gbif.org/developer/summary). We will be utilising the GBIF API's 'search' service which is specified by the URL `https://api.gbif.org/v1/occurrence/search`, which we can interface with through the Python `requests` module. Later we will pass parameters to this service, but for now we can test it out by fetching the first 20 results of the database (20 records is the default limit, which we will learn how to change later). This is done with the `get` method of the requests module."
   ]
  },
  {
   "cell_type": "code",
   "execution_count": null,
   "metadata": {},
   "outputs": [],
   "source": [
    "# Query the API\n",
    "response = requests.get(\"https://api.gbif.org/v1/occurrence/search\")\n",
    "# Print the request status (200 = success)\n",
    "print(f\"Status: {response.status_code}\")\n",
    "# Convert response to a python dictionary\n",
    "response = response.json()\n",
    "print(f\"Records returned: {len(response['results'])} of {response['count']}\")\n",
    "print(f\"First record: {json.dumps(response['results'][0], indent=4, sort_keys=True)}\")"
   ]
  },
  {
   "cell_type": "markdown",
   "metadata": {},
   "source": [
    "The result of the API request is that we retrieved 20 results from a total of 1,931,216,271. Printed above is the first result; an occurrence of a House Sparrow bird (species Passer domesticus). You can see the result contains comprehensive data on the occurrence.\n",
    "\n"
   ]
  },
  {
   "cell_type": "markdown",
   "metadata": {},
   "source": [
    "### Performing a search query\n",
    "\n",
    "Now that we know how to perform a basic GET request using the requests module, we can pass in parameters to refine our search. The query parameters of the search can be passed to the get request as a python dictionary, which we create below. For this demonstration, we will specify all frog occurences from 2020 to 2022 in the Richmond location. \n",
    "\n",
    "There are a few things to note when specifying parameters:\n",
    "- Ranges are given as a single parameter value by concatenating a lower and an upper value with a comma i.e. \"\\<min_val\\>,\\<max_val\\>\"\n",
    "- String fields like `order` and `species` need to be specified by their keys within the dataset, rather than raw text. For example, to filter for the order of Anura, we need to specify an `orderKey` value of \"952\", rather than an `order` value of \"Anura\". The keys are the same as the taxonKey which can be read from the URL when a query is specified on the [GBIF interactive map website](https://www.gbif.org/occurrence/map).\n",
    "\n",
    "For a more detailed description of all possible query parameters, see the [GBIF documentation](https://www.gbif.org/developer/occurrence)"
   ]
  },
  {
   "cell_type": "code",
   "execution_count": null,
   "metadata": {},
   "outputs": [],
   "source": [
    "# Specify query parameters\n",
    "parameters = {\n",
    "    \"year\":\"2020,2022\", # Year range\n",
    "    \"orderKey\":\"952\", # The order Anura (frogs) is indicated by key 952\n",
    "    \"decimalLatitude\":f\"{min_lat},{max_lat}\", # Latitude range\n",
    "    \"decimalLongitude\":f\"{min_lon},{max_lon}\" # Longitude range\n",
    "}\n",
    "\n",
    "response = requests.get(\"https://api.gbif.org/v1/occurrence/search\", params = parameters).json()\n",
    "print(f\"Records returned: {len(response['results'])} of {response['count']}\")\n",
    "\n",
    "# Read results into a dataframe and display\n",
    "results = (\n",
    "    pd.DataFrame(response['results'])\n",
    "    # Take relevant fields\n",
    "    [['key','kingdom', 'phylum','order', 'family', 'genus', 'species',\n",
    "       'decimalLongitude', 'decimalLatitude', 'stateProvince', 'year', 'month', 'day', 'eventDate']]\n",
    ")\n",
    "results.head()\n"
   ]
  },
  {
   "cell_type": "markdown",
   "metadata": {},
   "source": [
    "So far we have only been able to access 20 records at a time. This is specified by the `limit` parameter (which defaults to 20 and cannot be more than 300). If the query has less than 300 results, then all can be retrieved in just one call to the API. However, if a query has more than 300 results we need to make a few sequential calls to the API, setting `limit=300` but varying the `offset` parameter. A limit of 300 and offset of 300, will get the second page of 300 results. So to reach the next page of results, we simply need to add 300 to the offset and repeat until the offset is greater than the count of all records. Another way of detecting the last page of results is by checking for when the `endOfRecords` attribute of the response object changes to `True`. \n",
    "\n",
    "Below we implement such a loop to collect all 1456 frog occurences from 1800 to 2022 in the Richmond location, saving each page of results to a dataframe."
   ]
  },
  {
   "cell_type": "code",
   "execution_count": null,
   "metadata": {},
   "outputs": [],
   "source": [
    "frogs = pd.DataFrame()\n",
    "\n",
    "limit = 300\n",
    "\n",
    "parameters = {\n",
    "    \"year\":\"1800,2022\", # Year range\n",
    "    \"orderKey\":\"952\", # The order Anura (frogs) is indicated by order 952\n",
    "    \"decimalLatitude\":f\"{min_lat},{max_lat}\", # Latitude range\n",
    "    \"decimalLongitude\":f\"{min_lon},{max_lon}\", # Longitude range\n",
    "    \"limit\":limit\n",
    "}\n",
    "\n",
    "offset = 0\n",
    "while True:\n",
    "    \n",
    "    parameters['offset'] = offset\n",
    "    response = requests.get(\"https://api.gbif.org/v1/occurrence/search\", params = parameters).json()\n",
    "    total = response['count']\n",
    "    \n",
    "    print(f\"{offset} of {total}\")\n",
    "    \n",
    "    frogs = frogs.append(\n",
    "        pd.DataFrame(response['results'])\n",
    "        # Take only relevant columns\n",
    "        [['key','scientificName', 'acceptedScientificName', 'kingdom', 'phylum',\n",
    "       'order', 'family', 'genus', 'species', 'genericName', 'specificEpithet',\n",
    "       'decimalLongitude', 'decimalLatitude', 'stateProvince', 'year', 'month', 'day', 'eventDate']]\n",
    "    )\n",
    "    if response['endOfRecords']:\n",
    "        break\n",
    "    offset += limit\n",
    "    \n",
    "    "
   ]
  },
  {
   "cell_type": "markdown",
   "metadata": {},
   "source": [
    "### Visualising the dataset\n",
    "\n",
    "Below we can see the species distribution of all frog occurrences in Richmond, NSW."
   ]
  },
  {
   "cell_type": "code",
   "execution_count": null,
   "metadata": {},
   "outputs": [],
   "source": [
    "species_summary = (\n",
    "    frogs\n",
    "    .groupby([\"species\"]).count()\n",
    "    [['key']]\n",
    "    .rename(columns={'key':'counts'})\n",
    "    # Format species names for plotting\n",
    "    .reset_index()\n",
    "    .assign(\n",
    "        species = lambda x: x.species.str.replace(' ', '\\n')\n",
    "    )\n",
    "    .set_index(\"species\")\n",
    ")\n",
    "\n",
    "species_summary.plot.bar(\n",
    "    rot=45, \n",
    "    title=f\"Count of Frog Occurrences by Species (Richmond NSW, {frogs.year.min()}-{frogs.year.max()})\",\n",
    "    figsize=(20, 5)\n",
    ")\n"
   ]
  },
  {
   "cell_type": "markdown",
   "metadata": {},
   "source": [
    "Next, we can plot these frog occurrences on a map using `geopandas` and `contextily` to provide the basemap."
   ]
  },
  {
   "cell_type": "code",
   "execution_count": null,
   "metadata": {},
   "outputs": [],
   "source": [
    "crs = {'init':'epsg:4326'}\n",
    "\n",
    "geo_frogs = gpd.GeoDataFrame(\n",
    "    frogs.reset_index(drop=True), \n",
    "    geometry=gpd.points_from_xy(frogs.decimalLongitude, frogs.decimalLatitude),\n",
    "    crs=crs\n",
    ")\n",
    "ax = geo_frogs.plot(figsize=(10, 10))\n",
    "\n",
    "# Add basemap\n",
    "cx.add_basemap(ax, crs=crs)\n"
   ]
  },
  {
   "cell_type": "markdown",
   "metadata": {},
   "source": [
    "### Frog Absence"
   ]
  },
  {
   "cell_type": "markdown",
   "metadata": {},
   "source": [
    "Congratulations, you have successfuly found frogs! But in addition to knowing where frogs are, for the model that we plan to train we must also know where they aren't. To achieve this, we will assume that if a location has no observed frogs, that it actually has no frogs. This has some obvious flaws, but its a good start. Developing a smarter way to sample for frog absence could be an avenue worth persuing in your model optimisation process."
   ]
  },
  {
   "cell_type": "markdown",
   "metadata": {},
   "source": [
    "Firstly, we will add an `occurrenceStatus` attribute to indicate frog presence in the frog occurrence data we currently have. In addition, we'll simplify the dataframe to only include the location of each frog sighting, ignoring other information like species. "
   ]
  },
  {
   "cell_type": "code",
   "execution_count": null,
   "metadata": {},
   "outputs": [],
   "source": [
    "frogs = (\n",
    "    frogs\n",
    "    [[\"decimalLatitude\", \"decimalLongitude\"]]\n",
    "    .assign(\n",
    "        occurrenceStatus = '1'\n",
    "    )\n",
    ")\n",
    "frogs"
   ]
  },
  {
   "cell_type": "markdown",
   "metadata": {},
   "source": [
    "To sample for frog absence, we will perform a sliding window across the map above. If there are no frogs within the sliding region, we will save the midpoint of that region as a point where frogs do not occur. "
   ]
  },
  {
   "cell_type": "code",
   "execution_count": null,
   "metadata": {},
   "outputs": [],
   "source": [
    "non_frogs = pd.DataFrame()\n",
    "\n",
    "# Specify granularity of grid (50x50)\n",
    "grid = np.array([50, 50])\n",
    "\n",
    "# Calculate the step required to achieve granularity\n",
    "step = np.array([max_lat - min_lat, max_lon - min_lon])/grid\n",
    "\n",
    "# Define unit vectors\n",
    "up = np.array([0, 1])\n",
    "right = np.array([1, 0])\n",
    "\n",
    "# Bottom corner of entire bounding box\n",
    "bbox_bottom_corner = np.array([min_lon, min_lat])\n",
    "\n",
    "bottom_corner = bbox_bottom_corner\n",
    "for i in range(grid[0]):\n",
    "    for j in range(grid[1]):\n",
    "        \n",
    "        # Define grid unit\n",
    "        coords = [\n",
    "            tuple(bottom_corner), \n",
    "            tuple(bottom_corner + step*up), \n",
    "            tuple(bottom_corner + step), \n",
    "            tuple(bottom_corner + step*right)\n",
    "        ]\n",
    "        grid_unit = Polygon(coords)\n",
    "        \n",
    "        # count all frogs that intersect with this region\n",
    "        num_frogs = sum(geo_frogs.intersects(grid_unit))\n",
    "        \n",
    "        if num_frogs == 0:\n",
    "            midpoint = bottom_corner + step/2\n",
    "            non_frogs = non_frogs.append({'decimalLatitude':midpoint[1], 'decimalLongitude':midpoint[0]}, ignore_index=True)\n",
    "                \n",
    "        # move bottom corner to next grid unit\n",
    "        bottom_corner = bbox_bottom_corner + step*np.array([i, j])\n",
    "        "
   ]
  },
  {
   "cell_type": "markdown",
   "metadata": {},
   "source": [
    "To avoid class imbalance, we take only as many non-frogs as we have frogs."
   ]
  },
  {
   "cell_type": "code",
   "execution_count": null,
   "metadata": {},
   "outputs": [],
   "source": [
    "np.random.seed(420)\n",
    "non_frogs = (\n",
    "    non_frogs\n",
    "    # Take as many non-frogs as there are frogs\n",
    "    .sample(len(frogs))\n",
    "    # Assign new columns\n",
    "    .assign(\n",
    "        occurrenceStatus = '0'\n",
    "    )\n",
    "    [[ \"decimalLatitude\", \"decimalLongitude\", \"occurrenceStatus\"]]\n",
    ")\n",
    "non_frogs"
   ]
  },
  {
   "cell_type": "markdown",
   "metadata": {},
   "source": [
    "### Visualise final dataset\n",
    "\n",
    "Below is a map of our final dataset. The frog occurrences are green points, while the frog-absent points are yellow."
   ]
  },
  {
   "cell_type": "code",
   "execution_count": null,
   "metadata": {},
   "outputs": [],
   "source": [
    "crs = {'init':'epsg:4326'}\n",
    "\n",
    "all_data = (\n",
    "    frogs\n",
    "    .append(non_frogs)\n",
    "    .reset_index(drop=True)\n",
    ")\n",
    "\n",
    "geo_all_data = gpd.GeoDataFrame(\n",
    "    all_data, \n",
    "    geometry=gpd.points_from_xy(all_data.decimalLongitude, all_data.decimalLatitude),\n",
    "    crs=crs\n",
    ")\n",
    "\n",
    "geo_all_data = geo_all_data.assign(\n",
    "    colour = lambda x: np.where(x.occurrenceStatus == '0', 'yellow', 'green')   \n",
    ")\n",
    "\n",
    "ax = geo_all_data.plot(figsize=(10, 10), color=geo_all_data.colour)\n",
    "\n",
    "# Add basemap\n",
    "cx.add_basemap(ax, crs=crs)\n",
    "\n",
    "ax.set_title(f'Frogs (Green) and Frog Absence (Yellow) for Richmond NSW (1890-2021)')"
   ]
  },
  {
   "cell_type": "markdown",
   "metadata": {},
   "source": [
    "### Prepare and save to file\n",
    "\n",
    "Finally, we are left with a table containing the geolocations of frog sightings, as well as locations of frog absence in Richmond, NSW. These data will be the ground truth of our algorithm."
   ]
  },
  {
   "cell_type": "code",
   "execution_count": null,
   "metadata": {},
   "outputs": [],
   "source": [
    "all_data.drop('geometry', 1).to_csv(\"richmond_frogs.csv\", index=None)"
   ]
  }
 ],
 "metadata": {
  "kernelspec": {
   "display_name": "ey_ds",
   "language": "python",
   "name": "conda-env-ey_ds-py"
  },
  "language_info": {
   "codemirror_mode": {
    "name": "ipython",
    "version": 3
   },
   "file_extension": ".py",
   "mimetype": "text/x-python",
   "name": "python",
   "nbconvert_exporter": "python",
   "pygments_lexer": "ipython3",
   "version": "3.8.12"
  }
 },
 "nbformat": 4,
 "nbformat_minor": 4
}
