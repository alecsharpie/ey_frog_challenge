{
 "cells": [
  {
   "cell_type": "markdown",
   "metadata": {
    "tags": []
   },
   "source": [
    "## 2022 EY Challenge - Weather Data\n",
    "\n",
    "This notebook is used to create a weather dataset from <b>\"TerraClimate\"</b>. These data parameters, or their variability, can be used as \"predictor variables\" to relate to species samples. TerraClimate is a dataset of monthly climate and climatic water balance for global terrestrial surfaces from 1958-2019. These data provide important inputs for ecological and hydrological studies at global scales that require high spatial resolution and time-varying data. All data have monthly temporal resolution and a 4-km (0.036 degree) spatial resolution. The data can be found in the MS Planetary Computer catalog: https://planetarycomputer.microsoft.com/dataset/terraclimate"
   ]
  },
  {
   "cell_type": "code",
   "execution_count": null,
   "metadata": {},
   "outputs": [],
   "source": [
    "# Supress Warnings \n",
    "import warnings\n",
    "warnings.filterwarnings('ignore')\n",
    "\n",
    "# Import common GIS tools\n",
    "import numpy as np\n",
    "import xarray as xr\n",
    "import matplotlib.pyplot as plt\n",
    "import rasterio.features\n",
    "import folium\n",
    "import math\n",
    "\n",
    "# Import Planetary Computer tools\n",
    "import pystac_client\n",
    "import planetary_computer"
   ]
  },
  {
   "cell_type": "markdown",
   "metadata": {},
   "source": [
    "### Define the analysis region and view on a map\n",
    "\n",
    "First, we define our area of interest using latitude and longitude coordinates. Our test region is near Richmond, NSW, Australia. The first line defines the lower-left corner of the bounding box and the second line defines the upper-right corner of the bounding box. GeoJSON format uses a specific order: (longitude, latitude), so be careful when entering the coordinates."
   ]
  },
  {
   "cell_type": "code",
   "execution_count": null,
   "metadata": {},
   "outputs": [],
   "source": [
    "# Define the bounding box using corners\n",
    "min_lon, min_lat = (150.62, -33.69)  # Lower-left corner (longitude, latitude)\n",
    "max_lon, max_lat = (150.83, -33.48)  # Upper-right corner (longitude, latitude)"
   ]
  },
  {
   "cell_type": "code",
   "execution_count": null,
   "metadata": {},
   "outputs": [],
   "source": [
    "bbox = (min_lon, min_lat, max_lon, max_lat)\n",
    "latitude = (min_lat, max_lat)\n",
    "longitude = (min_lon, max_lon)"
   ]
  },
  {
   "cell_type": "code",
   "execution_count": null,
   "metadata": {
    "jupyter": {
     "source_hidden": true
    },
    "tags": []
   },
   "outputs": [],
   "source": [
    "def _degree_to_zoom_level(l1, l2, margin = 0.0):\n",
    "    \n",
    "    degree = abs(l1 - l2) * (1 + margin)\n",
    "    zoom_level_int = 0\n",
    "    if degree != 0:\n",
    "        zoom_level_float = math.log(360/degree)/math.log(2)\n",
    "        zoom_level_int = int(zoom_level_float)\n",
    "    else:\n",
    "        zoom_level_int = 18\n",
    "    return zoom_level_int\n",
    "\n",
    "def display_map(latitude = None, longitude = None):\n",
    "\n",
    "    margin = -0.5\n",
    "    zoom_bias = 0\n",
    "    lat_zoom_level = _degree_to_zoom_level(margin = margin, *latitude ) + zoom_bias\n",
    "    lon_zoom_level = _degree_to_zoom_level(margin = margin, *longitude) + zoom_bias\n",
    "    zoom_level = min(lat_zoom_level, lon_zoom_level) \n",
    "    center = [np.mean(latitude), np.mean(longitude)]\n",
    "    \n",
    "    map_hybrid = folium.Map(location=center,zoom_start=zoom_level, \n",
    "        tiles=\" http://mt1.google.com/vt/lyrs=y&z={z}&x={x}&y={y}\",attr=\"Google\")\n",
    "    \n",
    "    line_segments = [(latitude[0],longitude[0]),(latitude[0],longitude[1]),\n",
    "                     (latitude[1],longitude[1]),(latitude[1],longitude[0]),\n",
    "                     (latitude[0],longitude[0])]\n",
    "    \n",
    "    map_hybrid.add_child(folium.features.PolyLine(locations=line_segments,color='red',opacity=0.8))\n",
    "    map_hybrid.add_child(folium.features.LatLngPopup())        \n",
    "\n",
    "    return map_hybrid"
   ]
  },
  {
   "cell_type": "code",
   "execution_count": null,
   "metadata": {
    "tags": []
   },
   "outputs": [],
   "source": [
    "# Plot bounding box on a map\n",
    "f = folium.Figure(width=600, height=600)\n",
    "m = display_map(latitude,longitude)\n",
    "f.add_child(m)"
   ]
  },
  {
   "cell_type": "markdown",
   "metadata": {},
   "source": [
    "### Discover and load the data for analysis"
   ]
  },
  {
   "cell_type": "markdown",
   "metadata": {},
   "source": [
    "Using <b>pystac</b>, we will load the collection with links to all of the metadata about this dataset. The collection contains assets, which are links to the root of a Zarr store, which can be opened with xarray. Once loaded and opened, we can select the parameters we desire for further analyses. Overall, there are 18 variables for consideration. You can click the \"Data Variables\" output \"arrow\" for a list of those parameters."
   ]
  },
  {
   "cell_type": "code",
   "execution_count": null,
   "metadata": {},
   "outputs": [],
   "source": [
    "import pystac\n",
    "collection = pystac.read_file(\"https://planetarycomputer.microsoft.com/api/stac/v1/collections/terraclimate\")\n",
    "asset = collection.assets[\"zarr-https\"]"
   ]
  },
  {
   "cell_type": "code",
   "execution_count": null,
   "metadata": {},
   "outputs": [],
   "source": [
    "import fsspec\n",
    "import xarray as xr\n",
    "\n",
    "store = fsspec.get_mapper(asset.href)\n",
    "data = xr.open_zarr(store, **asset.extra_fields[\"xarray:open_kwargs\"])"
   ]
  },
  {
   "cell_type": "code",
   "execution_count": null,
   "metadata": {
    "tags": []
   },
   "outputs": [],
   "source": [
    "# View the dimensions, coordinates and variables of the dataset\n",
    "# Click on the \"data variables\" arrow to expand the output and see all of the possible variables\n",
    "data"
   ]
  },
  {
   "cell_type": "markdown",
   "metadata": {},
   "source": [
    "### Parsing the dataset"
   ]
  },
  {
   "cell_type": "markdown",
   "metadata": {},
   "source": [
    "Assuming we do not need all 18 variables and global coverage, we will \"clip\" the data to our region and select a time window that is representative of weather over this area (e.g. 5 years). Finally, we will select the variables we think are most likely to be \"predictor variables\" for frog species habitats. These are:<br> \n",
    "<br>maximum air temperature (tmax) - 2 meters above surface\n",
    "<br>minimum air temperature (tmin) - 2 meters above surface\n",
    "<br>accumulated precipitation (ppt) - accumulated monthly in millimeters\n",
    "<br>soil moisture (soil) - soil moisture in millimeters at end of month"
   ]
  },
  {
   "cell_type": "code",
   "execution_count": null,
   "metadata": {},
   "outputs": [],
   "source": [
    "clipped_data = data.sel(lon=slice(min_lon,max_lon),lat=slice(max_lat,min_lat),time=slice('2015-01-01','2019-12-31'))"
   ]
  },
  {
   "cell_type": "code",
   "execution_count": null,
   "metadata": {},
   "outputs": [],
   "source": [
    "parsed_data = clipped_data[['tmax', 'tmin', 'ppt', 'soil']]"
   ]
  },
  {
   "cell_type": "code",
   "execution_count": null,
   "metadata": {},
   "outputs": [],
   "source": [
    "# View the dimensions: time is in months, lat/lon is in pixels\n",
    "# View the coordinates: lat, lon and time\n",
    "# View the data variables we have parsed from the overall dataset\n",
    "parsed_data"
   ]
  },
  {
   "cell_type": "markdown",
   "metadata": {},
   "source": [
    "### Data Analysis\n",
    "Now we will look closer at some of this data using plotting and statistics."
   ]
  },
  {
   "cell_type": "code",
   "execution_count": null,
   "metadata": {},
   "outputs": [],
   "source": [
    "fig = plt.figure(figsize=(12, 6))\n",
    "parsed_data[\"tmax\"].mean(dim=[\"lat\",\"lon\"]).plot(marker='o',markersize=4,linewidth=1)\n",
    "parsed_data[\"tmin\"].mean(dim=[\"lat\",\"lon\"]).plot(marker='o',markersize=4,linewidth=1)\n",
    "plt.title(\"Mean Monthly Maximum and Minimum Air Temperature\")\n",
    "plt.show()"
   ]
  },
  {
   "cell_type": "code",
   "execution_count": null,
   "metadata": {},
   "outputs": [],
   "source": [
    "# Precipitation\n",
    "precip = (parsed_data[\"ppt\"]).mean(dim=[\"lat\",\"lon\"])\n",
    "precip.plot(figsize=(12, 6),marker='o',markersize=4,linewidth=1)\n",
    "plt.title(\"Mean Accumulated Precipitation (mm)\")\n",
    "plt.show()"
   ]
  },
  {
   "cell_type": "code",
   "execution_count": null,
   "metadata": {},
   "outputs": [],
   "source": [
    "# Soil Moisture\n",
    "moisture = (parsed_data[\"soil\"]).mean(dim=[\"lat\",\"lon\"])\n",
    "moisture.plot(figsize=(12, 6),marker='o',markersize=4,linewidth=1)\n",
    "plt.title(\"Mean Soil Moisture (mm)\")\n",
    "plt.show()"
   ]
  },
  {
   "cell_type": "markdown",
   "metadata": {},
   "source": [
    "### How will the participants use this data?\n",
    "The GeoTIFF file will contain the Lat-Lon coordinates of each pixel and will also contain the selected parameters for each pixel as separate data layers. Since the FrogID data is also Lat-Lon position, it is possible to find the closest pixel using code similar to what is demonstrated below. Once this pixel is found, then the corresponding parameter data values can be used for modeling species distribution. One example is to use the long-term mean values of a given parameter for a particular location and use that value for species modeling. Below are some sample results for a random Lat-Lon location."
   ]
  },
  {
   "cell_type": "code",
   "execution_count": null,
   "metadata": {
    "tags": []
   },
   "outputs": [],
   "source": [
    "val_maxtemp = parsed_data.tmax.mean(dim=[\"time\"]).sel(lon=150.71, lat=-33.51, method=\"nearest\").values    \n",
    "print(\"This is the mean maximum air temperature for the closest pixel: \", np.round(val_maxtemp,1))\n",
    "val_allmaxtemp = parsed_data.tmax.max(dim=[\"time\"]).sel(lon=150.71, lat=-33.51, method=\"nearest\").values    \n",
    "print(\"This is the overall maximum air temperature for the closest pixel: \", np.round(val_allmaxtemp,1))\n",
    "val_mintemp = parsed_data.tmin.mean(dim=[\"time\"]).sel(lon=150.71, lat=-33.51, method=\"nearest\").values    \n",
    "print(\"This is the mean minimum air temperature for the closest pixel: \", np.round(val_mintemp,1))\n",
    "val_allmintemp = parsed_data.tmin.min(dim=[\"time\"]).sel(lon=150.71, lat=-33.51, method=\"nearest\").values    \n",
    "print(\"This is the overall minimum air temperature for the closest pixel: \", np.round(val_allmintemp,1))\n",
    "val_precip = parsed_data.ppt.mean(dim=[\"time\"]).sel(lon=150.71, lat=-33.51, method=\"nearest\").values    \n",
    "print(\"This is the mean accumulated precipitation for the closest pixel: \", np.round(val_precip,1))\n",
    "val_soil = parsed_data.soil.mean(dim=[\"time\"]).sel(lon=150.71, lat=-33.51, method=\"nearest\").values    \n",
    "print(\"This is the mean soil moisture for the closest pixel: \", np.round(val_soil,1))"
   ]
  },
  {
   "cell_type": "markdown",
   "metadata": {},
   "source": [
    "### Saving the time series data in CSV format\n",
    "Now, what if you want to save the time series data for a particular parameter and Lat-Lon location? We can use the example above to specify a Lat-Lon position and then save the time series soil moisture data for that location. Below is the code that will create this CSV file. The file will contain columns for time (month), latitude and longitude (for the nearest pixel) and soil moisture. "
   ]
  },
  {
   "cell_type": "code",
   "execution_count": null,
   "metadata": {},
   "outputs": [],
   "source": [
    "filename = \"Soil_Moisture_sample.csv\"\n",
    "parsed_data[\"soil\"].sel(lon=150.71, lat=-33.51, method=\"nearest\").to_dataframe().to_csv(filename)"
   ]
  },
  {
   "cell_type": "code",
   "execution_count": null,
   "metadata": {},
   "outputs": [],
   "source": [
    "# Show the location and size of the new output file\n",
    "!ls *.csv -lah"
   ]
  }
 ],
 "metadata": {
  "kernelspec": {
   "display_name": "ey_ds",
   "language": "python",
   "name": "conda-env-ey_ds-py"
  },
  "language_info": {
   "codemirror_mode": {
    "name": "ipython",
    "version": 3
   },
   "file_extension": ".py",
   "mimetype": "text/x-python",
   "name": "python",
   "nbconvert_exporter": "python",
   "pygments_lexer": "ipython3",
   "version": "3.8.12"
  }
 },
 "nbformat": 4,
 "nbformat_minor": 4
}
