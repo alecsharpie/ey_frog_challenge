{
 "cells": [
  {
   "cell_type": "markdown",
   "metadata": {
    "tags": []
   },
   "source": [
    "## 2022 EY Challenge - Sentinel-2 Pre-computed Median Mosaic\n",
    "\n",
    "To assist with the challenge, our partners at NASA have created a pre-computed median mosaic from the [Sentinel-2 Level-2A](https://planetarycomputer.microsoft.com/dataset/sentinel-2-l2a) data that you are free to access. This will allow you to use the Sentinel-2 dataset effectively without having to expend costly computational resources and time creating your own mosaics. The product contains only four bands, red, green, blue, and near-infrared, and was calculated over Australia, South Africa, and Costa Rica for the year of 2019. Here are some statistics about the product:\n",
    "\n",
    "* Our regions in Australia, South Africa and Costa Rica cover 75-million square kilometers.\n",
    "* There are nearly 80,000 Sentinel-2 scenes and 64-Terrabytes of data over these regions in one year.\n",
    "* Our 2019 median mosaic is 434 GB of data which is 150x smaller than the baseline scene data.\n",
    "* The mosaic product is stored in about 11,300 tiles covering 0.25-degree square latitude/longitude blocks.\n",
    "* The mosaic took 20 hours to produce using 800 parallel virtual machines (VM). It would take one free Azure VM nearly 2 years to create the same product!\n",
    "\n",
    "The full Sentinel-2 data is still available, so you may wish to create your own custom mosaics that cover additional bands captured by Sentinel-2. We have extensive documentation on how best to query the Sentinel-2 data and manage the computational load required to compute your own mosaics. \n"
   ]
  },
  {
   "cell_type": "code",
   "execution_count": null,
   "metadata": {},
   "outputs": [],
   "source": [
    "# Supress Warnings \n",
    "import warnings\n",
    "warnings.filterwarnings('ignore')\n",
    "\n",
    "# Import common GIS tools\n",
    "import numpy as np\n",
    "import xarray as xr\n",
    "import matplotlib.pyplot as plt\n",
    "import rioxarray as rio\n",
    "import rasterio.features\n",
    "\n",
    "# Import Planetary Computer tools\n",
    "import stackstac\n",
    "import pystac_client\n",
    "import planetary_computer\n",
    "import xrspatial.multispectral as ms\n",
    "\n",
    "# Import function to obtain the precomputed mosaics\n",
    "from SentinelMosaic import SentinelMosaic"
   ]
  },
  {
   "cell_type": "markdown",
   "metadata": {},
   "source": [
    "### Discover and load the data for analysis\n",
    "\n",
    "First, we define our area of interest using latitude and longitude coordinates. Our test region is near Richmond, NSW, Australia. The first line defines the lower-left corner of the bounding box and the second line defines the upper-right corner of the bounding box. GeoJSON format uses a specific order: (longitude, latitude), so be careful when entering the coordinates."
   ]
  },
  {
   "cell_type": "code",
   "execution_count": null,
   "metadata": {},
   "outputs": [],
   "source": [
    "min_lon, min_lat = (150.62, -33.69)  # Lower-left corner\n",
    "max_lon, max_lat = (150.83, -33.48)  # Upper-right corner\n",
    "bbox = (min_lon, min_lat, max_lon, max_lat)"
   ]
  },
  {
   "cell_type": "code",
   "execution_count": null,
   "metadata": {},
   "outputs": [],
   "source": [
    "# Initialise mosaic downloader. Specify download path\n",
    "mosaic_downloader = SentinelMosaic(download_path='./data')"
   ]
  },
  {
   "cell_type": "code",
   "execution_count": null,
   "metadata": {},
   "outputs": [],
   "source": [
    "# Use the get_mosaic function to retrieve the relevant tiles for a given bounding box. \n",
    "# This function will download the relevant tiles to the download_path if it hasn't already, then it will read in the files and crop it to the bbox specified. \n",
    "# Some scenes may be corrupted or unavailable, making the function return None\n",
    "\n",
    "median = mosaic_downloader.get_mosaic(bbox)"
   ]
  },
  {
   "cell_type": "code",
   "execution_count": null,
   "metadata": {},
   "outputs": [],
   "source": [
    "print(median.sel(band=\"red\"))"
   ]
  },
  {
   "cell_type": "markdown",
   "metadata": {},
   "source": [
    "To visualize the data, we'll use xarray-spatial's `true_color` and `ndvi` functions to display the results. The RGB image is what we would see with our eye if looking from space at the land. "
   ]
  },
  {
   "cell_type": "code",
   "execution_count": null,
   "metadata": {},
   "outputs": [],
   "source": [
    "image = ms.true_color(median.sel(band=\"red\"), median.sel(band=\"green\"), median.sel(band=\"blue\"))"
   ]
  },
  {
   "cell_type": "code",
   "execution_count": null,
   "metadata": {},
   "outputs": [],
   "source": [
    "image.plot.imshow(figsize=(8,8))\n",
    "plt.title(\"Median RGB Mosaic\")\n",
    "# plt.axis('off')\n",
    "plt.show()"
   ]
  },
  {
   "cell_type": "markdown",
   "metadata": {},
   "source": [
    "The <b>Normalized Difference Vegetation Index (NDVI)</b> is used to measure the \"greenness\" of vegetation and has a range of 0.0 to 1.0. Low values (0.0 to 0.25) reflect a lack of vegetation (bare soil, urban, water), middle values (0.25 to 0.6) reflect grasslands or croplands in their growing state, and high values (0.6 to 1.0) reflect dense vegetation such as trees or croplands at their peak vegetation state. The equation uses two spectral bands where: <b>NDVI = (NIR-Red) / (NIR+Red)."
   ]
  },
  {
   "cell_type": "code",
   "execution_count": null,
   "metadata": {},
   "outputs": [],
   "source": [
    "ndvi_median = ms.ndvi(median.sel(band=\"nir\"), median.sel(band=\"red\"))"
   ]
  },
  {
   "cell_type": "code",
   "execution_count": null,
   "metadata": {},
   "outputs": [],
   "source": [
    "ndvi_median.plot.imshow(cmap=\"Greens\", vmin=0.0, vmax=1.0, figsize=(10,8))\n",
    "plt.title(\"Median NDVI\")\n",
    "plt.axis('off')\n",
    "plt.show()"
   ]
  },
  {
   "cell_type": "markdown",
   "metadata": {},
   "source": [
    "### Save the output data in a GeoTIFF file"
   ]
  },
  {
   "cell_type": "code",
   "execution_count": null,
   "metadata": {
    "tags": []
   },
   "outputs": [],
   "source": [
    "filename = \"S2_mosaic_sample2.tiff\""
   ]
  },
  {
   "cell_type": "code",
   "execution_count": null,
   "metadata": {},
   "outputs": [],
   "source": [
    "# This will report the pixel dimensions of our mosaic file. Recall that pixel resolution will impact the dimensions.\n",
    "median.sel(band=\"red\").shape"
   ]
  },
  {
   "cell_type": "code",
   "execution_count": null,
   "metadata": {},
   "outputs": [],
   "source": [
    "# Set the dimensions of file in pixels\n",
    "height = median.sel(band=\"red\").shape[0]\n",
    "width = median.sel(band=\"red\").shape[1]"
   ]
  },
  {
   "cell_type": "code",
   "execution_count": null,
   "metadata": {},
   "outputs": [],
   "source": [
    "# Define the Coordinate Reference System (CRS) to be common Lat-Lon coordinates\n",
    "# Define the tranformation using our bounding box so the Lat-Lon information is written to the GeoTIFF\n",
    "gt = rasterio.transform.from_bounds(min_lon,min_lat,max_lon,max_lat,width,height)\n",
    "median.rio.write_crs(\"epsg:4326\", inplace=True)\n",
    "median.rio.write_transform(transform=gt, inplace=True);"
   ]
  },
  {
   "cell_type": "code",
   "execution_count": null,
   "metadata": {},
   "outputs": [],
   "source": [
    "# Create the GeoTIFF output file using the defined parameters\n",
    "with rasterio.open(filename,'w',driver='GTiff',width=width,height=height,\n",
    "                   crs='epsg:4326',transform=gt,count=4,compress='lzw',dtype='float64') as dst:\n",
    "    dst.write(median.sel(band=\"red\"),1)\n",
    "    dst.write(median.sel(band=\"green\"),2)\n",
    "    dst.write(median.sel(band=\"blue\"),3) \n",
    "    dst.write(median.sel(band=\"nir\"),4)\n",
    "    dst.close()"
   ]
  },
  {
   "cell_type": "code",
   "execution_count": null,
   "metadata": {},
   "outputs": [],
   "source": [
    "# Show the location and size of the new output file\n",
    "!ls *.tiff -lah"
   ]
  },
  {
   "cell_type": "markdown",
   "metadata": {},
   "source": [
    "### How will the participants use this data?\n",
    "The mosaic data contains the Lat-Lon coordinates of each pixel and the median band values (Red, Green, Blue, NIR) for each pixel. These band values can be easily used to calculate indices such as NDVI (vegetation) or NDWI (water). Since the frog species training data also uses Lat-Lon position, it is possible to find the closest Sentinel-2 mosaic pixel using code similar to what is demonstrated below. This process can be repeated for each frog species sample in the training data. In the end, the Sentinel-2 spectral data from this mosaic can be used for modeling species distribution.\n",
    "\n",
    "Here are some other things to consider as you apply this data to your models. The closest pixel to any frog location may not be the 'best' representation of the surrounding vegetation or land conditions. For example, the frog location may have been acquired near a building or road that could skew the spectral data. So, participants may want to use methods that consider spectral data in the 'proximity' to any frog location as this might better reflect the surrounding vegetation or land conditions.\n",
    "\n",
    "Another possible issue is exceeding cloud computing memory limits. This may happen if you load large amounts of mosaic data prior to searching for corresponding frog locations. So, participants may want to calculate their desired spectral information for each frog location and only store that final result for later use in their model.\n"
   ]
  },
  {
   "cell_type": "code",
   "execution_count": null,
   "metadata": {},
   "outputs": [],
   "source": [
    "# This is an example for a specific Lon-Lat location randomly selected within our sample region.\n",
    "values = median.sel(x=-83.00, y=8.00, method=\"nearest\").values    \n",
    "print(\"These are the band values (R,G,B,NIR) for the closest pixel: \", values)"
   ]
  },
  {
   "cell_type": "code",
   "execution_count": null,
   "metadata": {},
   "outputs": [],
   "source": []
  }
 ],
 "metadata": {
  "kernelspec": {
   "display_name": "ey_test",
   "language": "python",
   "name": "conda-env-ey_test-py"
  },
  "language_info": {
   "codemirror_mode": {
    "name": "ipython",
    "version": 3
   },
   "file_extension": ".py",
   "mimetype": "text/x-python",
   "name": "python",
   "nbconvert_exporter": "python",
   "pygments_lexer": "ipython3",
   "version": "3.8.10"
  }
 },
 "nbformat": 4,
 "nbformat_minor": 4
}
