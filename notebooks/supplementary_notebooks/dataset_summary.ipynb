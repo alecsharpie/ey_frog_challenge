{
 "cells": [
  {
   "cell_type": "markdown",
   "id": "ab2ef1c2-4df4-4242-8f87-55e1d33b09e3",
   "metadata": {},
   "source": [
    "# 2022 EY Data Science Challenge - Training Dataset Summary\n",
    "\n",
    "Welcome to the 2022 EY Data Science Challenge! In this supplementary notebook, we will be exploring the training dataset that you must use to train your models. The dataset is a subset of the GBIF occurrence dataset which combines data from a wide array of sources, including specimen-related data from natural history museums, observations from citizen science networks, and automated environmental surveys. For our purposes, we are only interested in a narrow subset of the data relating to 9 selected frog species from Australia, Costa Rica, and South Africa. To improve the representation of some frog species, we have expanded the dataset to include some neighbouring countries in Central America and Africa, however your model will be tested on set regions in Australia, Costa Rica, and South Africa. A large source of the Australian data is from a smartphone app called FrogID created by the Australian Museum. This app is free to download and enables citizens to record frog calls which are then classified in the app to tell the user the species. You can check it out [here](https://www.frogid.net.au/).\n",
    "\n",
    "Now let's spend some time familiarising ourselves with the dataset you will be using to build your models. Firstly, we will explore loading in the data, then we will make some visualisations to better understand it. \n",
    "\n",
    "**Note: you must use this instance of the dataset to train your models. Using any other frog occurrence data is prohibited.**\n"
   ]
  },
  {
   "cell_type": "code",
   "execution_count": null,
   "id": "70450de7-87cd-47dc-a889-e0220de99a13",
   "metadata": {},
   "outputs": [],
   "source": [
    "import pandas as pd\n",
    "import numpy as np\n",
    "import matplotlib.pyplot as plt\n",
    "import folium\n",
    "from itertools import cycle\n",
    "import contextily as cx\n",
    "import warnings\n",
    "import zipfile\n",
    "import os\n",
    "warnings.filterwarnings(\"ignore\")\n",
    "\n",
    "data_path = '../'\n",
    "\n",
    "output_path = './output/'"
   ]
  },
  {
   "cell_type": "markdown",
   "id": "2031eadf-68e8-4b27-b2b6-597f986e374d",
   "metadata": {},
   "source": [
    "The following code will unzip the training data if it hasn't been already."
   ]
  },
  {
   "cell_type": "code",
   "execution_count": null,
   "id": "f507c1c8-11e7-4dc3-b335-8e72bed8aaf1",
   "metadata": {},
   "outputs": [],
   "source": [
    "if not os.path.exists(data_path+'training_data/'):\n",
    "    os.mkdir(data_path+'/training_data/')\n",
    "    with zipfile.ZipFile(data_path+'GBIF_training_data.zip', 'r') as zip_ref:\n",
    "        zip_ref.extractall(data_path+'/training_data/')"
   ]
  },
  {
   "cell_type": "markdown",
   "id": "4e691521-3721-4a3f-a8d3-437448e31544",
   "metadata": {},
   "source": [
    "Next, we load in the data. There are 258 fields in the dataset, only a few of which are relevant. We have chosen 9 columns that we think are relevant, but it may be worth sifting through the other fields to find ones that could assist you in the challenge. You can learn more about each of the fields from the [GBIF docs](https://docs.gbif.org/georeferencing-quick-reference-guide/1.0/en/). \n",
    "\n",
    "One thing to note is that ranoidea australis is also known as cyclorana australis. The training dataset uses ranoidea australis, but for testing we use cyclorana australis. For this reason, we are careful to rename ranoidea australis to cyclorana australis when loading in the data.\n",
    "\n",
    "Below we also display the percentage of null values for each of the 9 fields. You may want to look at the documentation to better understand what these null values mean and how best to handle them."
   ]
  },
  {
   "cell_type": "code",
   "execution_count": null,
   "id": "c1323fc9-ac11-4807-aa68-c75b70959e82",
   "metadata": {},
   "outputs": [],
   "source": [
    "columns = [\n",
    "    'gbifID','eventDate','country','continent','stateProvince',\n",
    "    'decimalLatitude','decimalLongitude','species', 'coordinateUncertaintyInMeters'\n",
    "]\n",
    "\n",
    "country_names = {\n",
    "    'AU':'Australia', 'CR':'Costa Rica', 'ZA':'South Africa','MX':'Mexico','HN':'Honduras',\n",
    "    'MZ':'Mozambique','BW':'Botswana','MW':'Malawi','CO':'Colombia','PA':'Panama','NI':'Nicaragua',\n",
    "    'BZ':'Belize','ZW':'Zimbabwe','SZ':'Eswatini','ZM':'Zambia','GT':'Guatemala','LS':'Lesotho',\n",
    "    'SV':'El Salvador', 'AO':'Angola', np.nan:'unknown or invalid'\n",
    "}\n",
    "\n",
    "continent_names = {\n",
    "    'AU':'Australia', 'CR':'Central America', 'ZA':'Africa','MX':'Central America','HN':'Central America',\n",
    "    'MZ':'Africa','BW':'Africa','MW':'Africa','CO':'Central America','PA':'Central America',\n",
    "    'NI':'Central America','BZ':'Central America','ZW':'Africa','SZ':'Africa','ZM':'Africa',\n",
    "    'GT':'Central America','LS':'Africa','SV':'Central America','AO':'Africa', np.nan:'unknown or invalid' \n",
    "}\n",
    "    \n",
    "data = (\n",
    "    pd.read_csv(data_path+'./training_data/occurrence.txt', sep='\\t', parse_dates=['eventDate'])\n",
    "    .assign(\n",
    "        country =  lambda x: x.countryCode.map(country_names),\n",
    "        continent =  lambda x: x.countryCode.map(continent_names),\n",
    "        species = lambda x: x.species.str.title()\n",
    "    )    \n",
    "    # Rename ranoidea australis to cyclorana australis\n",
    "    .assign(species = lambda x: np.where(x.species == 'Ranoidea Australis', 'Cyclorana Australis', x.species))\n",
    "    [columns]\n",
    ")\n",
    "\n",
    "np.sum(data.isna())/len(data)*100"
   ]
  },
  {
   "cell_type": "markdown",
   "id": "2da9da1b-d82d-4478-aea4-41645b490de8",
   "metadata": {},
   "source": [
    "## Spatial Distribution\n",
    "\n",
    "Next, we plot the spatial distribution of the occurrences of the dataset.\n"
   ]
  },
  {
   "cell_type": "code",
   "execution_count": null,
   "id": "75226d21-d86c-49a0-ae79-eaeff707fc61",
   "metadata": {},
   "outputs": [],
   "source": [
    "species_colourmap = {species:colour['color'] for species, colour in zip(data.species.value_counts().index, cycle(plt.rcParams['axes.prop_cycle']))}\n",
    "\n",
    "def plot_species(fig, ax, frog_data, region_name, colourmap=None):\n",
    "    # Bar chart\n",
    "    bar_data = frog_data.species.value_counts()\n",
    "    barchart = ax[1].bar(bar_data.index.str.replace(' ', '\\n'), bar_data)\n",
    "    # Colour cycle to ensure colors match in both plots\n",
    "    if colourmap is None:\n",
    "        colourmap = {species:colour['color'] for species, colour in zip(frog_data.species.value_counts().index, cycle(plt.rcParams['axes.prop_cycle']))}\n",
    "    for i in range(len(bar_data)):\n",
    "        species_name = bar_data.index[i]\n",
    "        if len(species_name) > 19:\n",
    "            display_name = species_name.replace(' ', '\\n')\n",
    "        else:\n",
    "            display_name = species_name\n",
    "        barchart[i].set_color(colourmap[species_name])\n",
    "        barchart[i].set_label(f\"{display_name}\\nCount: {bar_data[i]}\")\n",
    "        filt = frog_data.species == species_name\n",
    "        # Scatter plot\n",
    "        ax[0].scatter(\n",
    "            frog_data[filt].decimalLongitude, \n",
    "            frog_data[filt].decimalLatitude, \n",
    "            marker='.', \n",
    "            color=colourmap[species_name]\n",
    "        )\n",
    "    # Add other features\n",
    "    ax[0].set_title(f\"Frog occurrences for {region_name}\")\n",
    "    ax[0].set_xticklabels([])\n",
    "    ax[0].set_yticklabels([])\n",
    "    ax[1].set_title(f\"Frog species distribution in {region_name}\")\n",
    "    cx.add_basemap(ax[0], crs={'init':'epsg:4326'}, alpha=0.5) # Add basemap\n",
    "    ax[1].set_xticklabels(bar_data.index.str.replace(' ', '\\n'), rotation=45)\n",
    "    ax[1].legend()\n",
    "    \n",
    "def plot_barchart(bar_data, ax, colourmap=None, bar_params={}):\n",
    "    barchart = ax.bar(bar_data.index, bar_data, **bar_params)\n",
    "    if colourmap is None:\n",
    "        prop_cycle = cycle(plt.rcParams['axes.prop_cycle'])\n",
    "        colourmap = {spec:col['color'] for spec, col in zip(bar_data.index, prop_cycle)}\n",
    "    for i in range(len(bar_data)):\n",
    "        var_name = bar_data.index[i]\n",
    "        barchart[i].set_color(colourmap[var_name])\n",
    "        barchart[i].set_label(f\"{var_name}\\nCount: {bar_data[i]}\")\n",
    "    ax.set_xticklabels(bar_data.index.str.replace(' ', '\\n'), rotation=45)\n",
    "    ax.legend()"
   ]
  },
  {
   "cell_type": "code",
   "execution_count": null,
   "id": "a15cde07-2f3b-41b4-a63b-7dfbcf13dffe",
   "metadata": {},
   "outputs": [],
   "source": [
    "country_bar_data = data.continent.value_counts()\n",
    "fig, ax = plt.subplots()\n",
    "plot_barchart(country_bar_data, ax)\n",
    "ax.set_title('Frog occurrences by country')"
   ]
  },
  {
   "cell_type": "code",
   "execution_count": null,
   "id": "d2a80dd4-28cc-4b38-9bba-9d9637c8f202",
   "metadata": {},
   "outputs": [],
   "source": [
    "fig, ax = plt.subplots(2, 4, figsize=(18, 10))\n",
    "for i, cnt in enumerate(data.continent.unique()):\n",
    "    filt = data.continent == cnt\n",
    "    plot_species(fig, ax[:, i], data[filt], cnt, colourmap=species_colourmap)\n",
    "plt.show()"
   ]
  },
  {
   "cell_type": "markdown",
   "id": "3665ee6c-8d05-4a54-acfc-bdb45e25f6cd",
   "metadata": {},
   "source": [
    "From above, it looks like there is some messiness inherent in the data. For instance, there are some points in Africa that have an unknown country label, and there is one lone occurrence of an African frog species in Mexico. We will ignore all of these points and only take instances in Australia, Costa Rica, and South Africa. You are welcome and encouraged to utilise the occurrences in neighbouring countries."
   ]
  },
  {
   "cell_type": "code",
   "execution_count": null,
   "id": "9806af2e-6c7d-4335-a666-0e7dbf1ea2f3",
   "metadata": {},
   "outputs": [],
   "source": [
    "# Take only Australia, Costa Rica, and South Africa\n",
    "data = data[data.country.str.contains('Australia|Costa Rica|South Africa')]"
   ]
  },
  {
   "cell_type": "markdown",
   "id": "da02bc49-f662-43c1-8627-8dec5f6e9eb1",
   "metadata": {},
   "source": [
    "To assist in exploring the data, below we have defined an interactive map using the folium package. "
   ]
  },
  {
   "cell_type": "code",
   "execution_count": null,
   "id": "8c0bdbd6-65a2-48b3-9797-68b48d64b791",
   "metadata": {},
   "outputs": [],
   "source": [
    "# Plotting functions\n",
    "def plotDot(point, folium_map, species_colours):\n",
    "    folium.CircleMarker(\n",
    "        location=[point.decimalLatitude, point.decimalLongitude],\n",
    "        radius=10,\n",
    "        stroke=False,\n",
    "        weight=5,\n",
    "        fill=True,\n",
    "        fillOpacity=1.0,\n",
    "        opacity=1.0,\n",
    "        color=species_colours[point.species]\n",
    "    ).add_to(folium_map)\n",
    "    \n",
    "#create a map\n",
    "frog_map = folium.Map(prefer_canvas=True)\n",
    "\n",
    "# plot 1000 points from each country\n",
    "(\n",
    "     data[data.country == 'Australia'].sample(1000, random_state=420).append(\n",
    "         data[data.country == 'Costa Rica'].sample(1000, random_state=420).append(\n",
    "             data[data.country == 'South Africa'].sample(1000, random_state=420)\n",
    "         )\n",
    "     )\n",
    ").apply(\n",
    "    plotDot, axis = 1, args=(frog_map, species_colourmap)\n",
    ")\n",
    "\n",
    "#Set the zoom to the maximum possible\n",
    "frog_map.fit_bounds(frog_map.get_bounds())\n",
    "#Lat lon on click\n",
    "frog_map.add_child(folium.LatLngPopup())\n",
    "#Save the map to an HTML file\n",
    "frog_map.save(output_path+'frog_map_training.html')\n",
    "frog_map"
   ]
  },
  {
   "cell_type": "markdown",
   "id": "8485f5d6-74a8-4c98-b550-c8d952ce9cd0",
   "metadata": {},
   "source": [
    "## Temporal Distribution\n",
    "\n",
    "Another aspect of the dataset that might be worth exploring is the temporal component. When building your models, you should consider whether older observations are relevant to pair with newer satellite data. We plot the occurrences over time below."
   ]
  },
  {
   "cell_type": "code",
   "execution_count": null,
   "id": "920fab1a-d6b8-4498-9593-f5b935feca48",
   "metadata": {},
   "outputs": [],
   "source": [
    "fig, ax = plt.subplots(2, 3, figsize=(15, 10))\n",
    "\n",
    "for i, cnt in enumerate(data.country.unique()):\n",
    "    country_data = data[data.country == cnt]    \n",
    "    for species in country_data.species.unique():\n",
    "        plot_data = country_data[lambda x: x.species == species]\n",
    "        line_data = (\n",
    "            plot_data\n",
    "            [['eventDate']]\n",
    "            .dropna()\n",
    "            .assign(\n",
    "                year = lambda x: x.eventDate.dt.year,\n",
    "                n = 1\n",
    "            )\n",
    "            .groupby('year')\n",
    "            .sum()\n",
    "            .reset_index()\n",
    "            .sort_values('year')\n",
    "            .assign(ncum=lambda x: x.n.cumsum())\n",
    "        )\n",
    "        ax[1, i].plot(line_data.year, line_data.ncum, label=species)\n",
    "        ax[0, i].plot(line_data.year, line_data.n, label=species)\n",
    "        # ax[0, i].hist(plot_data.eventDate.dt.year, alpha=0.5, label=species, density=True, bins=list(range(1900, 2025, 10)))\n",
    "    xlim = (1900, 2025)\n",
    "    # xlim = (country_data.eventDate.dt.year.min(), country_data.eventDate.dt.year.max()) \n",
    "    ax[1, i].legend(loc='upper left')\n",
    "    ax[1, i].set_xlim(xlim)\n",
    "    ax[1, i].set_title(f\"{cnt}\\nCumulative frogs over time by species\")\n",
    "    ax[0, i].legend(loc='upper left')\n",
    "    ax[0, i].set_xlim(xlim)\n",
    "    ax[0, i].set_title(f\"{cnt}\\nFrogs over time by species\")\n"
   ]
  }
 ],
 "metadata": {
  "kernelspec": {
   "display_name": "ey_ds",
   "language": "python",
   "name": "conda-env-ey_ds-py"
  },
  "language_info": {
   "codemirror_mode": {
    "name": "ipython",
    "version": 3
   },
   "file_extension": ".py",
   "mimetype": "text/x-python",
   "name": "python",
   "nbconvert_exporter": "python",
   "pygments_lexer": "ipython3",
   "version": "3.8.12"
  }
 },
 "nbformat": 4,
 "nbformat_minor": 5
}
