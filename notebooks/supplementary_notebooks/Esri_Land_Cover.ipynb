{
 "cells": [
  {
   "cell_type": "markdown",
   "metadata": {
    "tags": []
   },
   "source": [
    "## 2022 EY Challenge - Land Cover\n",
    "This notebook can be used to create a land cover dataset. This land cover information can be used as a \"predictor variable\" to relate to species samples. For example, certain land cover classifications (e.g. water, grass, trees) may be conducive to species habitats. This dataset contains global estimates of 10-class land use/land cover for the year 2020, derived from ESA Sentinel-2 imagery at 10-meter spatial resolution. The data can be found in the MS Planetary Computer catalog: https://planetarycomputer.microsoft.com/dataset/io-lulc#overview"
   ]
  },
  {
   "cell_type": "code",
   "execution_count": null,
   "metadata": {},
   "outputs": [],
   "source": [
    "# Supress Warnings \n",
    "import warnings\n",
    "warnings.filterwarnings('ignore')\n",
    "\n",
    "# Import common GIS tools\n",
    "import numpy as np\n",
    "import xarray as xr\n",
    "import matplotlib.pyplot as plt\n",
    "import rioxarray as rio\n",
    "import rasterio.features\n",
    "import folium\n",
    "import math\n",
    "from matplotlib.colors import ListedColormap\n",
    "\n",
    "# Import Planetary Computer tools\n",
    "import stackstac\n",
    "import pystac_client\n",
    "import planetary_computer as pc\n",
    "from pystac.extensions.raster import RasterExtension as raster"
   ]
  },
  {
   "cell_type": "markdown",
   "metadata": {},
   "source": [
    "### Define the analysis region and view on a map\n",
    "\n",
    "First, we define our area of interest using latitude and longitude coordinates. Our test region is near Richmond, NSW, Australia. The first line defines the lower-left corner of the bounding box and the second line defines the upper-right corner of the bounding box. GeoJSON format uses a specific order: (longitude, latitude), so be careful when entering the coordinates."
   ]
  },
  {
   "cell_type": "code",
   "execution_count": null,
   "metadata": {},
   "outputs": [],
   "source": [
    "# Define the bounding box using corners\n",
    "min_lon, min_lat = (150.62, -33.69)  # Lower-left corner (longitude, latitude)\n",
    "max_lon, max_lat = (150.83, -33.48)  # Upper-right corner (longitude, latitude)"
   ]
  },
  {
   "cell_type": "code",
   "execution_count": null,
   "metadata": {},
   "outputs": [],
   "source": [
    "bbox = (min_lon, min_lat, max_lon, max_lat)\n",
    "latitude = (min_lat, max_lat)\n",
    "longitude = (min_lon, max_lon)"
   ]
  },
  {
   "cell_type": "code",
   "execution_count": null,
   "metadata": {
    "tags": []
   },
   "outputs": [],
   "source": [
    "def _degree_to_zoom_level(l1, l2, margin = 0.0):\n",
    "    \n",
    "    degree = abs(l1 - l2) * (1 + margin)\n",
    "    zoom_level_int = 0\n",
    "    if degree != 0:\n",
    "        zoom_level_float = math.log(360/degree)/math.log(2)\n",
    "        zoom_level_int = int(zoom_level_float)\n",
    "    else:\n",
    "        zoom_level_int = 18\n",
    "    return zoom_level_int\n",
    "\n",
    "def display_map(latitude = None, longitude = None):\n",
    "\n",
    "    margin = -0.5\n",
    "    zoom_bias = 0\n",
    "    lat_zoom_level = _degree_to_zoom_level(margin = margin, *latitude ) + zoom_bias\n",
    "    lon_zoom_level = _degree_to_zoom_level(margin = margin, *longitude) + zoom_bias\n",
    "    zoom_level = min(lat_zoom_level, lon_zoom_level) \n",
    "    center = [np.mean(latitude), np.mean(longitude)]\n",
    "    \n",
    "    map_hybrid = folium.Map(location=center,zoom_start=zoom_level, \n",
    "        tiles=\" http://mt1.google.com/vt/lyrs=y&z={z}&x={x}&y={y}\",attr=\"Google\")\n",
    "    \n",
    "    line_segments = [(latitude[0],longitude[0]),(latitude[0],longitude[1]),\n",
    "                     (latitude[1],longitude[1]),(latitude[1],longitude[0]),\n",
    "                     (latitude[0],longitude[0])]\n",
    "    \n",
    "    map_hybrid.add_child(folium.features.PolyLine(locations=line_segments,color='red',opacity=0.8))\n",
    "    map_hybrid.add_child(folium.features.LatLngPopup())        \n",
    "\n",
    "    return map_hybrid"
   ]
  },
  {
   "cell_type": "code",
   "execution_count": null,
   "metadata": {
    "tags": []
   },
   "outputs": [],
   "source": [
    "# Plot bounding box on a map\n",
    "f = folium.Figure(width=600, height=600)\n",
    "m = display_map(latitude,longitude)\n",
    "f.add_child(m)"
   ]
  },
  {
   "cell_type": "markdown",
   "metadata": {},
   "source": [
    "### Discover and load the data for analysis"
   ]
  },
  {
   "cell_type": "markdown",
   "metadata": {},
   "source": [
    "Using the `pystac_client` we can search the Planetary Computer's STAC endpoint for items matching our query parameters. We will look for data tiles (1-degree square) that intersect our bounding box. "
   ]
  },
  {
   "cell_type": "code",
   "execution_count": null,
   "metadata": {},
   "outputs": [],
   "source": [
    "stac = pystac_client.Client.open(\"https://planetarycomputer.microsoft.com/api/stac/v1\")\n",
    "search = stac.search(bbox=bbox,collections=[\"io-lulc\"])"
   ]
  },
  {
   "cell_type": "code",
   "execution_count": null,
   "metadata": {},
   "outputs": [],
   "source": [
    "items = list(search.get_items())\n",
    "print('Number of data tiles intersecting our bounding box:',len(items))"
   ]
  },
  {
   "cell_type": "markdown",
   "metadata": {},
   "source": [
    "Next, we'll load the data into an [xarray](https://xarray.pydata.org/en/stable/) DataArray using [stackstac](https://stackstac.readthedocs.io/) and then \"clip\" the data to only the pixels within our region (bounding box). There are also several other <b>important settings for the data</b>: We have changed the projection to EPSG=4326 which is standard latitude-longitude in degrees. We have specified the spatial resolution of each pixel to be 10-meters, which is the baseline accuracy for this data. After creating the DataArray, we will need to mosaic the raster chunks across the time dimension (remember, they're all from a single synthesized \"time\" from 2020) and drop the single band dimension. Finally, we will read the actual data by calling .compute(). In the end, the dataset will include land cover classifications (10 total) at 10-meters spatial resolution. "
   ]
  },
  {
   "cell_type": "code",
   "execution_count": null,
   "metadata": {},
   "outputs": [],
   "source": [
    "item = next(search.get_items())\n",
    "items = [pc.sign(item).to_dict() for item in search.get_items()]\n",
    "nodata = raster.ext(item.assets[\"data\"]).bands[0].nodata"
   ]
  },
  {
   "cell_type": "code",
   "execution_count": null,
   "metadata": {},
   "outputs": [],
   "source": [
    "# Define the pixel resolution for the final product\n",
    "# Define the scale according to our selected crs, so we will use degrees\n",
    "resolution = 10  # meters per pixel \n",
    "scale = resolution / 111320.0 # degrees per pixel for crs=4326 "
   ]
  },
  {
   "cell_type": "code",
   "execution_count": null,
   "metadata": {
    "tags": []
   },
   "outputs": [],
   "source": [
    "data = stackstac.stack(\n",
    "    items, # use only the data from our search results\n",
    "    epsg=4326, # use common lat-lon coordinates\n",
    "    resolution=scale, # Use degrees for crs=4326\n",
    "    dtype=np.ubyte, # matches the data versus default float64\n",
    "    fill_value=nodata, # fills voids with no data\n",
    "    bounds_latlon=bbox # clips to our bounding box\n",
    ")"
   ]
  },
  {
   "cell_type": "code",
   "execution_count": null,
   "metadata": {
    "tags": []
   },
   "outputs": [],
   "source": [
    "land_cover = stackstac.mosaic(data, dim=\"time\", axis=None).squeeze().drop(\"band\").compute()"
   ]
  },
  {
   "cell_type": "markdown",
   "metadata": {},
   "source": [
    "### Land Cover Map\n",
    "Now we will create a land cover classification map. The source GeoTIFFs contain a colormap and the STAC metadata contains the class names. We'll open one of the source files just to read this metadata and construct the right colors and names for our plot."
   ]
  },
  {
   "cell_type": "code",
   "execution_count": null,
   "metadata": {},
   "outputs": [],
   "source": [
    "# Create a custom colormap using the file metadata\n",
    "class_names = land_cover.coords[\"label:classes\"].item()[\"classes\"]\n",
    "class_count = len(class_names)\n",
    "\n",
    "with rasterio.open(pc.sign(item.assets[\"data\"].href)) as src:\n",
    "    colormap_def = src.colormap(1)  # get metadata colormap for band 1\n",
    "    colormap = [np.array(colormap_def[i]) / 255 for i in range(class_count)\n",
    "               ]  # transform to matplotlib color format\n",
    "\n",
    "cmap = ListedColormap(colormap)"
   ]
  },
  {
   "cell_type": "code",
   "execution_count": null,
   "metadata": {},
   "outputs": [],
   "source": [
    "image = land_cover.plot(size=8,cmap=cmap,add_colorbar=False,vmin=0,vmax=class_count)\n",
    "cbar = plt.colorbar(image)\n",
    "cbar.set_ticks(range(class_count))\n",
    "cbar.set_ticklabels(class_names)\n",
    "plt.gca().set_aspect('equal')\n",
    "plt.title('Land Cover Classification')\n",
    "plt.xlabel('Longitude')\n",
    "plt.ylabel('Latitude')\n",
    "plt.show()"
   ]
  },
  {
   "cell_type": "markdown",
   "metadata": {},
   "source": [
    "### Save the output data in a GeoTIFF file"
   ]
  },
  {
   "cell_type": "code",
   "execution_count": null,
   "metadata": {
    "tags": []
   },
   "outputs": [],
   "source": [
    "filename = \"Land_Cover_sample2.tiff\""
   ]
  },
  {
   "cell_type": "code",
   "execution_count": null,
   "metadata": {},
   "outputs": [],
   "source": [
    "# Set the dimensions of file in pixels\n",
    "height = land_cover.shape[0]\n",
    "width = land_cover.shape[1]"
   ]
  },
  {
   "cell_type": "code",
   "execution_count": null,
   "metadata": {},
   "outputs": [],
   "source": [
    "# Define the Coordinate Reference System (CRS) to be common Lat-Lon coordinates\n",
    "# Define the tranformation using our bounding box so the Lat-Lon information is written to the GeoTIFF\n",
    "gt = rasterio.transform.from_bounds(min_lon,min_lat,max_lon,max_lat,width,height)\n",
    "land_cover.rio.write_crs(\"epsg:4326\", inplace=True)\n",
    "land_cover.rio.write_transform(transform=gt, inplace=True);"
   ]
  },
  {
   "cell_type": "code",
   "execution_count": null,
   "metadata": {},
   "outputs": [],
   "source": [
    "# Create the GeoTIFF output file using the defined parameters\n",
    "with rasterio.open(filename,'w',driver='GTiff',width=width,height=height,\n",
    "                   crs='epsg:4326',transform=gt,count=1,compress='lzw',dtype=np.ubyte) as dst:\n",
    "    dst.write(land_cover,1)\n",
    "    dst.close()"
   ]
  },
  {
   "cell_type": "code",
   "execution_count": null,
   "metadata": {},
   "outputs": [],
   "source": [
    "# Show the location and size of the new output file\n",
    "!ls *.tiff -lah"
   ]
  },
  {
   "cell_type": "markdown",
   "metadata": {},
   "source": [
    "### How will the participants use this data?\n",
    "The GeoTIFF file will contain the Lat-Lon coordinates of each pixel and will also contain the land class for each pixel. Since the FrogID data is also Lat-Lon position, it is possible to find the closest pixel using code similar to what is demonstrated below. Once this pixel is found, then the corresponding land class can be used for modeling species distribution. In addition, participants may want to consider proximity to specific land classes. For example, there may be a positive correlation with land classes such as trees, grass or water and there may be a negative correlation with land classes such as built-up area or bare soil."
   ]
  },
  {
   "cell_type": "markdown",
   "metadata": {},
   "source": [
    "These are the possible <b>land classifications</b>, reported below:<br>\n",
    "1 = water, 2 = trees, 3 = grass, 4 = flooded vegetation, 5 = crops<br>\n",
    "6 = scrub, 7 = built-up (urban), 8 = bare soil, 9 = snow/ice, 10=clouds"
   ]
  },
  {
   "cell_type": "code",
   "execution_count": null,
   "metadata": {},
   "outputs": [],
   "source": [
    "# This is an example for a specific Lon-Lat location randomly selected within our sample region.\n",
    "values = land_cover.sel(x=150.71, y=-33.51, method=\"nearest\").values    \n",
    "print(\"This is the land classification for the closest pixel: \",values)"
   ]
  },
  {
   "cell_type": "code",
   "execution_count": null,
   "metadata": {},
   "outputs": [],
   "source": []
  }
 ],
 "metadata": {
  "kernelspec": {
   "display_name": "ey_ds",
   "language": "python",
   "name": "conda-env-ey_ds-py"
  },
  "language_info": {
   "codemirror_mode": {
    "name": "ipython",
    "version": 3
   },
   "file_extension": ".py",
   "mimetype": "text/x-python",
   "name": "python",
   "nbconvert_exporter": "python",
   "pygments_lexer": "ipython3",
   "version": "3.8.12"
  }
 },
 "nbformat": 4,
 "nbformat_minor": 4
}
